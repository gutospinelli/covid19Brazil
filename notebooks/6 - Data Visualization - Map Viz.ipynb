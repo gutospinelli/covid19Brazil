{
 "cells": [
  {
   "cell_type": "markdown",
   "metadata": {},
   "source": [
    "# Extraindo dados da Covid19 via API\n",
    "### Fonte de Dados: https://brasil.io/dataset/covid19/\n",
    "### Augusto SPINELLI\n",
    "\n",
    "### Licença\n",
    "Os dados dados convertidos estão sob a licença Creative Commons Attribution ShareAlike. Caso utilize os dados, cite a fonte original e quem tratou os dados, como: Fonte: Secretarias de Saúde das Unidades Federativas, dados tratados por Álvaro Justen e colaboradores/Brasil.IO. Caso compartilhe os dados, utilize a mesma licença."
   ]
  },
  {
   "cell_type": "code",
   "execution_count": 1,
   "metadata": {},
   "outputs": [
    {
     "name": "stdout",
     "output_type": "stream",
     "text": [
      "<class 'pandas.core.frame.DataFrame'>\n",
      "RangeIndex: 50640 entries, 0 to 50639\n",
      "Data columns (total 8 columns):\n",
      " #   Column                 Non-Null Count  Dtype  \n",
      "---  ------                 --------------  -----  \n",
      " 0   dt_notific             50613 non-null  object \n",
      " 1   dt_inicio_sintomas     50603 non-null  object \n",
      " 2   bairro_resid__estadia  50640 non-null  object \n",
      " 3   ap_residencia_estadia  50640 non-null  float64\n",
      " 4   evolucao               50640 non-null  object \n",
      " 5   dt_obito               4727 non-null   object \n",
      " 6   CEP                    50640 non-null  int64  \n",
      " 7   dt_registro            50640 non-null  object \n",
      "dtypes: float64(1), int64(1), object(6)\n",
      "memory usage: 3.1+ MB\n"
     ]
    }
   ],
   "source": [
    "#importando dependencias\n",
    "import pandas as pd\n",
    "import numpy as np\n",
    "import os\n",
    "\n",
    "#Caminho dos arquivos RAW\n",
    "raw_data_path = os.path.join(os.path.pardir, 'data', 'raw')\n",
    "data_path = os.path.join(raw_data_path, 'cepsDataset.csv')\n",
    "\n",
    "#criando dataframes brutos/raw\n",
    "df = pd.read_csv(data_path, delimiter = ';')\n",
    "\n",
    "#mapeando data de atualizacao de forma correta\n",
    "def GetData(dataFull):\n",
    "    d = dataFull.split(';')[0]\n",
    "    return d\n",
    "\n",
    "df['dt_registro'] = df['Data_atualizacao;OBJECTID'].map(lambda x: GetData(x))\n",
    "\n",
    "#removendo coluna inútil\n",
    "del df['Data_atualizacao;OBJECTID']\n",
    "\n",
    "#vendo info do dataframe\n",
    "df.info()"
   ]
  },
  {
   "cell_type": "markdown",
   "metadata": {},
   "source": [
    "## Uso do Mapa com Leaflet\n",
    "\n",
    "O Leaflet é uma biblioteca JavaScript de código aberto amplamente usada para criar aplicativos de mapeamento da web"
   ]
  },
  {
   "cell_type": "code",
   "execution_count": 2,
   "metadata": {},
   "outputs": [
    {
     "data": {
      "application/vnd.jupyter.widget-view+json": {
       "model_id": "24676720dcc94847b7756a84c3515369",
       "version_major": 2,
       "version_minor": 0
      },
      "text/plain": [
       "Map(center=[-22.9980967, -43.2654989], controls=(ZoomControl(options=['position', 'zoom_in_text', 'zoom_in_tit…"
      ]
     },
     "metadata": {},
     "output_type": "display_data"
    }
   ],
   "source": [
    "#testando ipyleaflet\n",
    "from ipyleaflet import Map, Marker\n",
    "\n",
    "center = (-22.9980967, -43.2654989)\n",
    "\n",
    "m = Map(center=center, zoom=13)\n",
    "\n",
    "m.add_layer(Marker(location=center))\n",
    "\n",
    "display(m)\n"
   ]
  },
  {
   "cell_type": "markdown",
   "metadata": {},
   "source": [
    "## Usando uma API de CEPs Brasileiros para buscar mais dados\n",
    "\n",
    "### CEP Aberto\n",
    "É um projeto que visa prover acesso gratuito e construir de maneira colaborativa uma base de dados com os Codigos de Enderecamento Postal (CEP) geolocalizados de todo o Brasil. Colabore melhorando a informação de CEPs que você conhece. Registre-se gratuitamente para ter acesso a API e poder baixar a base de dados. O CEP Aberto possui informação de 1137131 CEPs distribuídos em 10659 cidades e municípios"
   ]
  },
  {
   "cell_type": "code",
   "execution_count": 3,
   "metadata": {},
   "outputs": [],
   "source": [
    "#usando a api do cep aberto para pesquisar ceps\n",
    "import requests\n",
    "\n",
    "token = \"##SECRET##\" #pegue seu token pessoal após cadastro no CEP Aberto\n",
    "headers = {'Authorization': 'Token token=%s' % token}\n",
    "\n",
    "\n",
    "def search_by_cep(cep):\n",
    "    url = \"https://www.cepaberto.com/api/v3/cep?cep=\" + cep\n",
    "    response = requests.get(url, headers=headers)\n",
    "    return response.json()\n",
    "\n",
    "def draw_map(latitude, longitude):\n",
    "    pos = (latitude, longitude)\n",
    "    m = Map(center=pos, zoom=13)\n",
    "    m.add_layer(Marker(location=pos))\n",
    "    display(m)\n",
    "    \n",
    "\n",
    "    "
   ]
  },
  {
   "cell_type": "code",
   "execution_count": 4,
   "metadata": {},
   "outputs": [
    {
     "data": {
      "text/plain": [
       "{'altitude': 23.0,\n",
       " 'cep': '22041001',\n",
       " 'latitude': '-22.9699083',\n",
       " 'longitude': '-43.182299',\n",
       " 'logradouro': 'Avenida Atlântica',\n",
       " 'bairro': 'Copacabana',\n",
       " 'complemento': '- de 2174 a 2634 - lado par',\n",
       " 'cidade': {'ddd': 21, 'ibge': '3304557', 'nome': 'Rio de Janeiro'},\n",
       " 'estado': {'sigla': 'RJ'}}"
      ]
     },
     "execution_count": 4,
     "metadata": {},
     "output_type": "execute_result"
    }
   ],
   "source": [
    "#testando acesso a API\n",
    "search_by_cep(\"22041001\")\n"
   ]
  },
  {
   "cell_type": "markdown",
   "metadata": {},
   "source": [
    "## Covid around me\n",
    "\n",
    "Um site para mostrar os casos de covid ao redor do usuário"
   ]
  },
  {
   "cell_type": "code",
   "execution_count": 5,
   "metadata": {},
   "outputs": [],
   "source": [
    "import unicodedata\n",
    "\n",
    "def strip_accents(text):\n",
    "\n",
    "    try:\n",
    "        text = unicode(text, 'utf-8')\n",
    "    except NameError: # unicode is a default on python 3 \n",
    "        pass\n",
    "\n",
    "    text = unicodedata.normalize('NFD', text)\\\n",
    "           .encode('ascii', 'ignore')\\\n",
    "           .decode(\"utf-8\")\n",
    "\n",
    "    return str(text)"
   ]
  },
  {
   "cell_type": "code",
   "execution_count": 6,
   "metadata": {},
   "outputs": [
    {
     "name": "stdout",
     "output_type": "stream",
     "text": [
      "Andarai\n"
     ]
    }
   ],
   "source": [
    "digiteCep = 20540195\n",
    "buscaCep = search_by_cep(str(digiteCep))\n",
    "\n",
    "bairroCep = strip_accents(buscaCep['bairro'])\n",
    "print(bairroCep)\n"
   ]
  },
  {
   "cell_type": "code",
   "execution_count": 7,
   "metadata": {},
   "outputs": [
    {
     "name": "stdout",
     "output_type": "stream",
     "text": [
      "Casos na sua Rua: 4\n",
      "Casos no seu Bairro: 242\n"
     ]
    }
   ],
   "source": [
    "casos_sua_rua = df.loc[df.CEP == digiteCep,:] \n",
    "print('Casos na sua Rua: {0}'.format(len(casos_sua_rua)))\n",
    "\n",
    "casos_seu_bairro = df.loc[df.bairro_resid__estadia == bairroCep.upper(),:] \n",
    "print('Casos no seu Bairro: {0}'.format(len(casos_seu_bairro)))\n"
   ]
  },
  {
   "cell_type": "code",
   "execution_count": 8,
   "metadata": {},
   "outputs": [
    {
     "data": {
      "application/vnd.jupyter.widget-view+json": {
       "model_id": "6d9e4bc7dd7d47c4bb79730bade6f71a",
       "version_major": 2,
       "version_minor": 0
      },
      "text/plain": [
       "Map(center=['-22.9260667', '-43.2454189'], controls=(ZoomControl(options=['position', 'zoom_in_text', 'zoom_in…"
      ]
     },
     "metadata": {},
     "output_type": "display_data"
    }
   ],
   "source": [
    "draw_map(buscaCep['latitude'],buscaCep['longitude'])"
   ]
  },
  {
   "cell_type": "markdown",
   "metadata": {},
   "source": [
    "## End of Notebook"
   ]
  },
  {
   "cell_type": "code",
   "execution_count": null,
   "metadata": {},
   "outputs": [],
   "source": []
  },
  {
   "cell_type": "code",
   "execution_count": null,
   "metadata": {},
   "outputs": [],
   "source": []
  }
 ],
 "metadata": {
  "kernelspec": {
   "display_name": "Python 3",
   "language": "python",
   "name": "python3"
  },
  "language_info": {
   "codemirror_mode": {
    "name": "ipython",
    "version": 3
   },
   "file_extension": ".py",
   "mimetype": "text/x-python",
   "name": "python",
   "nbconvert_exporter": "python",
   "pygments_lexer": "ipython3",
   "version": "3.7.6"
  }
 },
 "nbformat": 4,
 "nbformat_minor": 4
}
