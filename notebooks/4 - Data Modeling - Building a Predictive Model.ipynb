{
 "cells": [
  {
   "cell_type": "markdown",
   "metadata": {},
   "source": [
    "# Extraindo dados da Covid19 via API\n",
    "### Fonte de Dados: https://brasil.io/dataset/covid19/\n",
    "### Augusto SPINELLI\n",
    "\n",
    "### Licença\n",
    "Os dados dados convertidos estão sob a licença Creative Commons Attribution ShareAlike. Caso utilize os dados, cite a fonte original e quem tratou os dados, como: Fonte: Secretarias de Saúde das Unidades Federativas, dados tratados por Álvaro Justen e colaboradores/Brasil.IO. Caso compartilhe os dados, utilize a mesma licença."
   ]
  },
  {
   "cell_type": "markdown",
   "metadata": {},
   "source": [
    "#### Para criação do nosso modelo preditivo que tentará prever se um paciente covid irá a óbito ou não, utilizaremos o dataset de casos individualizados anonimos baseado no cep do paciente\n",
    "\n",
    "## Data Munging"
   ]
  },
  {
   "cell_type": "code",
   "execution_count": 40,
   "metadata": {},
   "outputs": [
    {
     "name": "stdout",
     "output_type": "stream",
     "text": [
      "<class 'pandas.core.frame.DataFrame'>\n",
      "RangeIndex: 50640 entries, 0 to 50639\n",
      "Data columns (total 8 columns):\n",
      " #   Column                     Non-Null Count  Dtype  \n",
      "---  ------                     --------------  -----  \n",
      " 0   dt_notific                 50613 non-null  object \n",
      " 1   dt_inicio_sintomas         50603 non-null  object \n",
      " 2   bairro_resid__estadia      50640 non-null  object \n",
      " 3   ap_residencia_estadia      50640 non-null  float64\n",
      " 4   evolu��o                   50640 non-null  object \n",
      " 5   dt_�bito                   4727 non-null   object \n",
      " 6   CEP                        50640 non-null  int64  \n",
      " 7   Data_atualiza��o;OBJECTID  50640 non-null  object \n",
      "dtypes: float64(1), int64(1), object(6)\n",
      "memory usage: 3.1+ MB\n"
     ]
    }
   ],
   "source": [
    "#importando dependencias\n",
    "import pandas as pd\n",
    "import numpy as np\n",
    "import os\n",
    "\n",
    "#Caminho dos arquivos RAW\n",
    "raw_data_path = os.path.join(os.path.pardir, 'data', 'raw')\n",
    "data_path = os.path.join(raw_data_path, 'ceps2.csv')\n",
    "\n",
    "#criando dataframes brutos/raw\n",
    "raw_df = pd.read_csv(data_path)\n",
    "\n",
    "#verificando informações do dataframe\n",
    "raw_df.info()"
   ]
  },
  {
   "cell_type": "code",
   "execution_count": 41,
   "metadata": {},
   "outputs": [],
   "source": [
    "#renomeando colunas com encoding errado\n",
    "df = raw_df.rename(columns={\"evolu��o\": \"evolucao\", \"dt_�bito\": \"dt_obito\"})"
   ]
  },
  {
   "cell_type": "code",
   "execution_count": 42,
   "metadata": {},
   "outputs": [],
   "source": [
    "#mapeando data de atualizacao de forma correta\n",
    "def GetData(dataFull):\n",
    "    d = dataFull.split(';')[0]\n",
    "    return d\n",
    "\n",
    "df['dt_registro'] = df['Data_atualiza��o;OBJECTID'].map(lambda x: GetData(x))"
   ]
  },
  {
   "cell_type": "code",
   "execution_count": 43,
   "metadata": {},
   "outputs": [
    {
     "name": "stdout",
     "output_type": "stream",
     "text": [
      "<class 'pandas.core.frame.DataFrame'>\n",
      "RangeIndex: 50640 entries, 0 to 50639\n",
      "Data columns (total 8 columns):\n",
      " #   Column                 Non-Null Count  Dtype  \n",
      "---  ------                 --------------  -----  \n",
      " 0   dt_notific             50613 non-null  object \n",
      " 1   dt_inicio_sintomas     50603 non-null  object \n",
      " 2   bairro_resid__estadia  50640 non-null  object \n",
      " 3   ap_residencia_estadia  50640 non-null  float64\n",
      " 4   evolucao               50640 non-null  object \n",
      " 5   dt_obito               4727 non-null   object \n",
      " 6   CEP                    50640 non-null  int64  \n",
      " 7   dt_registro            50640 non-null  object \n",
      "dtypes: float64(1), int64(1), object(6)\n",
      "memory usage: 3.1+ MB\n"
     ]
    }
   ],
   "source": [
    "#removendo coluna inútil\n",
    "del df['Data_atualiza��o;OBJECTID']\n",
    "df.info()"
   ]
  },
  {
   "cell_type": "code",
   "execution_count": null,
   "metadata": {},
   "outputs": [],
   "source": []
  }
 ],
 "metadata": {
  "kernelspec": {
   "display_name": "Python 3",
   "language": "python",
   "name": "python3"
  },
  "language_info": {
   "codemirror_mode": {
    "name": "ipython",
    "version": 3
   },
   "file_extension": ".py",
   "mimetype": "text/x-python",
   "name": "python",
   "nbconvert_exporter": "python",
   "pygments_lexer": "ipython3",
   "version": "3.7.6"
  }
 },
 "nbformat": 4,
 "nbformat_minor": 4
}
