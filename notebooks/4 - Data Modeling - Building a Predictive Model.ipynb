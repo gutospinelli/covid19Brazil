{
 "cells": [
  {
   "cell_type": "markdown",
   "metadata": {},
   "source": [
    "# Extraindo dados da Covid19 via API\n",
    "### Fonte de Dados: https://brasil.io/dataset/covid19/\n",
    "### Augusto SPINELLI\n",
    "\n",
    "### Licença\n",
    "Os dados dados convertidos estão sob a licença Creative Commons Attribution ShareAlike. Caso utilize os dados, cite a fonte original e quem tratou os dados, como: Fonte: Secretarias de Saúde das Unidades Federativas, dados tratados por Álvaro Justen e colaboradores/Brasil.IO. Caso compartilhe os dados, utilize a mesma licença."
   ]
  },
  {
   "cell_type": "markdown",
   "metadata": {},
   "source": [
    "#### Para criação do nosso modelo preditivo que tentará prever se um paciente covid irá a óbito ou não, utilizaremos o dataset de casos individualizados anonimos baseado no cep do paciente\n",
    "\n",
    "## Data Munging\n",
    "\n",
    "É o processo de mapeamento e transformação de dados para análise. No nosso caso, temos acesso somente a um dataset que informa a evolução do paciente com base no endereço / CEP de residencia, e tentaremos preparar um modelo que irá prever a evolucão de pacientes ativos de acordo com as áreas de planejamento Cidade do Rio de Janeiro (APS)\n"
   ]
  },
  {
   "cell_type": "code",
   "execution_count": 30,
   "metadata": {},
   "outputs": [
    {
     "name": "stdout",
     "output_type": "stream",
     "text": [
      "<class 'pandas.core.frame.DataFrame'>\n",
      "RangeIndex: 50640 entries, 0 to 50639\n",
      "Data columns (total 8 columns):\n",
      " #   Column                     Non-Null Count  Dtype  \n",
      "---  ------                     --------------  -----  \n",
      " 0   dt_notific                 50613 non-null  object \n",
      " 1   dt_inicio_sintomas         50603 non-null  object \n",
      " 2   bairro_resid__estadia      50640 non-null  object \n",
      " 3   ap_residencia_estadia      50640 non-null  float64\n",
      " 4   evolu��o                   50640 non-null  object \n",
      " 5   dt_�bito                   4727 non-null   object \n",
      " 6   CEP                        50640 non-null  int64  \n",
      " 7   Data_atualiza��o;OBJECTID  50640 non-null  object \n",
      "dtypes: float64(1), int64(1), object(6)\n",
      "memory usage: 3.1+ MB\n"
     ]
    }
   ],
   "source": [
    "#importando dependencias\n",
    "import pandas as pd\n",
    "import numpy as np\n",
    "import os\n",
    "\n",
    "#Caminho dos arquivos RAW\n",
    "raw_data_path = os.path.join(os.path.pardir, 'data', 'raw')\n",
    "data_path = os.path.join(raw_data_path, 'ceps2.csv')\n",
    "\n",
    "#criando dataframes brutos/raw\n",
    "raw_df = pd.read_csv(data_path)\n",
    "\n",
    "#verificando informações do dataframe\n",
    "raw_df.info()"
   ]
  },
  {
   "cell_type": "code",
   "execution_count": 31,
   "metadata": {},
   "outputs": [],
   "source": [
    "#renomeando colunas com encoding errado\n",
    "df = raw_df.rename(columns={\"evolu��o\": \"evolucao\", \"dt_�bito\": \"dt_obito\"})"
   ]
  },
  {
   "cell_type": "code",
   "execution_count": 32,
   "metadata": {},
   "outputs": [],
   "source": [
    "#mapeando data de atualizacao de forma correta\n",
    "def GetData(dataFull):\n",
    "    d = dataFull.split(';')[0]\n",
    "    return d\n",
    "\n",
    "df['dt_registro'] = df['Data_atualiza��o;OBJECTID'].map(lambda x: GetData(x))"
   ]
  },
  {
   "cell_type": "code",
   "execution_count": 33,
   "metadata": {},
   "outputs": [
    {
     "name": "stdout",
     "output_type": "stream",
     "text": [
      "<class 'pandas.core.frame.DataFrame'>\n",
      "RangeIndex: 50640 entries, 0 to 50639\n",
      "Data columns (total 8 columns):\n",
      " #   Column                 Non-Null Count  Dtype  \n",
      "---  ------                 --------------  -----  \n",
      " 0   dt_notific             50613 non-null  object \n",
      " 1   dt_inicio_sintomas     50603 non-null  object \n",
      " 2   bairro_resid__estadia  50640 non-null  object \n",
      " 3   ap_residencia_estadia  50640 non-null  float64\n",
      " 4   evolucao               50640 non-null  object \n",
      " 5   dt_obito               4727 non-null   object \n",
      " 6   CEP                    50640 non-null  int64  \n",
      " 7   dt_registro            50640 non-null  object \n",
      "dtypes: float64(1), int64(1), object(6)\n",
      "memory usage: 3.1+ MB\n"
     ]
    }
   ],
   "source": [
    "#removendo coluna inútil\n",
    "del df['Data_atualiza��o;OBJECTID']\n",
    "df.info()"
   ]
  },
  {
   "cell_type": "code",
   "execution_count": 34,
   "metadata": {},
   "outputs": [
    {
     "name": "stdout",
     "output_type": "stream",
     "text": [
      "Nuúmero de Recuperados: 44723\n",
      "Nuúmero de Ativos: 1190\n",
      "Nuúmero de Óbitos: 4727\n"
     ]
    }
   ],
   "source": [
    "recuperados = df.loc[df.evolucao == 'recuperado',:] \n",
    "print('Nuúmero de Recuperados: {0}'.format(len(recuperados)))\n",
    "\n",
    "ativos = df.loc[df.evolucao == 'ativo',:] \n",
    "print('Nuúmero de Ativos: {0}'.format(len(ativos)))\n",
    "\n",
    "obitos = df.loc[df.evolucao == '�bito',:] \n",
    "print('Nuúmero de Óbitos: {0}'.format(len(obitos)))"
   ]
  },
  {
   "cell_type": "code",
   "execution_count": 35,
   "metadata": {},
   "outputs": [
    {
     "data": {
      "text/plain": [
       "array([3.2, 3.3, 2.2, 4. , 3.1, 5.1, 5.2, 1. , 2.1, 5.3])"
      ]
     },
     "execution_count": 35,
     "metadata": {},
     "output_type": "execute_result"
    }
   ],
   "source": [
    "df.ap_residencia_estadia.unique()"
   ]
  },
  {
   "cell_type": "code",
   "execution_count": 36,
   "metadata": {},
   "outputs": [],
   "source": [
    "df = pd.get_dummies(df,columns=['ap_residencia_estadia'])"
   ]
  },
  {
   "cell_type": "code",
   "execution_count": 37,
   "metadata": {},
   "outputs": [
    {
     "name": "stdout",
     "output_type": "stream",
     "text": [
      "<class 'pandas.core.frame.DataFrame'>\n",
      "RangeIndex: 50640 entries, 0 to 50639\n",
      "Data columns (total 17 columns):\n",
      " #   Column                     Non-Null Count  Dtype \n",
      "---  ------                     --------------  ----- \n",
      " 0   dt_notific                 50613 non-null  object\n",
      " 1   dt_inicio_sintomas         50603 non-null  object\n",
      " 2   bairro_resid__estadia      50640 non-null  object\n",
      " 3   evolucao                   50640 non-null  object\n",
      " 4   dt_obito                   4727 non-null   object\n",
      " 5   CEP                        50640 non-null  int64 \n",
      " 6   dt_registro                50640 non-null  object\n",
      " 7   ap_residencia_estadia_1.0  50640 non-null  uint8 \n",
      " 8   ap_residencia_estadia_2.1  50640 non-null  uint8 \n",
      " 9   ap_residencia_estadia_2.2  50640 non-null  uint8 \n",
      " 10  ap_residencia_estadia_3.1  50640 non-null  uint8 \n",
      " 11  ap_residencia_estadia_3.2  50640 non-null  uint8 \n",
      " 12  ap_residencia_estadia_3.3  50640 non-null  uint8 \n",
      " 13  ap_residencia_estadia_4.0  50640 non-null  uint8 \n",
      " 14  ap_residencia_estadia_5.1  50640 non-null  uint8 \n",
      " 15  ap_residencia_estadia_5.2  50640 non-null  uint8 \n",
      " 16  ap_residencia_estadia_5.3  50640 non-null  uint8 \n",
      "dtypes: int64(1), object(6), uint8(10)\n",
      "memory usage: 3.2+ MB\n"
     ]
    }
   ],
   "source": [
    "df.info()"
   ]
  },
  {
   "cell_type": "code",
   "execution_count": 38,
   "metadata": {},
   "outputs": [],
   "source": [
    "df.drop(['dt_obito','dt_notific','dt_inicio_sintomas','bairro_resid__estadia','CEP','dt_registro'], axis=1,inplace=True)"
   ]
  },
  {
   "cell_type": "code",
   "execution_count": 39,
   "metadata": {},
   "outputs": [],
   "source": [
    "def preencheSobreviveu(evolucao):\n",
    "    ret = -1\n",
    "    if evolucao == 'recuperado':\n",
    "        ret = 1\n",
    "    elif evolucao == 'ativo':\n",
    "        ret = -1 #não sabemos - test data\n",
    "    else:\n",
    "        ret = 0 #óbito\n",
    "    return ret\n",
    "    \n",
    "df['sobreviveu'] = df['evolucao'].map(lambda x: preencheSobreviveu(x))"
   ]
  },
  {
   "cell_type": "code",
   "execution_count": 40,
   "metadata": {},
   "outputs": [
    {
     "name": "stdout",
     "output_type": "stream",
     "text": [
      "<class 'pandas.core.frame.DataFrame'>\n",
      "RangeIndex: 50640 entries, 0 to 50639\n",
      "Data columns (total 11 columns):\n",
      " #   Column                     Non-Null Count  Dtype\n",
      "---  ------                     --------------  -----\n",
      " 0   ap_residencia_estadia_1.0  50640 non-null  uint8\n",
      " 1   ap_residencia_estadia_2.1  50640 non-null  uint8\n",
      " 2   ap_residencia_estadia_2.2  50640 non-null  uint8\n",
      " 3   ap_residencia_estadia_3.1  50640 non-null  uint8\n",
      " 4   ap_residencia_estadia_3.2  50640 non-null  uint8\n",
      " 5   ap_residencia_estadia_3.3  50640 non-null  uint8\n",
      " 6   ap_residencia_estadia_4.0  50640 non-null  uint8\n",
      " 7   ap_residencia_estadia_5.1  50640 non-null  uint8\n",
      " 8   ap_residencia_estadia_5.2  50640 non-null  uint8\n",
      " 9   ap_residencia_estadia_5.3  50640 non-null  uint8\n",
      " 10  sobreviveu                 50640 non-null  int64\n",
      "dtypes: int64(1), uint8(10)\n",
      "memory usage: 890.3 KB\n"
     ]
    }
   ],
   "source": [
    "df.drop(['evolucao'], axis=1,inplace=True)\n",
    "df.info()"
   ]
  },
  {
   "cell_type": "code",
   "execution_count": 41,
   "metadata": {},
   "outputs": [],
   "source": [
    "#reorder columns\n",
    "columns = [column for column in df.columns if column != 'sobreviveu']\n",
    "columns = ['sobreviveu'] + columns\n",
    "df = df[columns]"
   ]
  },
  {
   "cell_type": "code",
   "execution_count": 43,
   "metadata": {},
   "outputs": [
    {
     "name": "stdout",
     "output_type": "stream",
     "text": [
      "<class 'pandas.core.frame.DataFrame'>\n",
      "RangeIndex: 50640 entries, 0 to 50639\n",
      "Data columns (total 11 columns):\n",
      " #   Column                     Non-Null Count  Dtype\n",
      "---  ------                     --------------  -----\n",
      " 0   sobreviveu                 50640 non-null  int64\n",
      " 1   ap_residencia_estadia_1.0  50640 non-null  uint8\n",
      " 2   ap_residencia_estadia_2.1  50640 non-null  uint8\n",
      " 3   ap_residencia_estadia_2.2  50640 non-null  uint8\n",
      " 4   ap_residencia_estadia_3.1  50640 non-null  uint8\n",
      " 5   ap_residencia_estadia_3.2  50640 non-null  uint8\n",
      " 6   ap_residencia_estadia_3.3  50640 non-null  uint8\n",
      " 7   ap_residencia_estadia_4.0  50640 non-null  uint8\n",
      " 8   ap_residencia_estadia_5.1  50640 non-null  uint8\n",
      " 9   ap_residencia_estadia_5.2  50640 non-null  uint8\n",
      " 10  ap_residencia_estadia_5.3  50640 non-null  uint8\n",
      "dtypes: int64(1), uint8(10)\n",
      "memory usage: 890.3 KB\n"
     ]
    }
   ],
   "source": [
    "df.info()"
   ]
  },
  {
   "cell_type": "markdown",
   "metadata": {},
   "source": [
    "## Salvando dados em arquivo\n",
    "\n",
    "Nosso pobre modelo por hora considera como critério apenas a AP de residencia do paciente para definir se ele sobrevive ou não. Devemos procurar um outro dataset com dados anonimos e individualizados mais rica, como por exemplo sexo, renda, etc para que esses critérios também sejam considerados pelo nosso modelo na hora de prever se o paciente sobreviverá ou não.\n",
    "\n",
    "Por hora, com o que temos em mãos, vamos salvar os datasets de test e training "
   ]
  },
  {
   "cell_type": "code",
   "execution_count": 44,
   "metadata": {},
   "outputs": [],
   "source": [
    "processed_data_path = os.path.join(os.path.pardir,'data','processed')\n",
    "write_train_path = os.path.join(processed_data_path,'train.csv')\n",
    "write_test_path = os.path.join(processed_data_path,'test.csv')"
   ]
  },
  {
   "cell_type": "code",
   "execution_count": 45,
   "metadata": {},
   "outputs": [],
   "source": [
    "df.loc[df.sobreviveu != -1].to_csv(write_train_path)\n",
    "columns = [column for column in df.columns if column != 'sobreviveu']\n",
    "df.loc[df.sobreviveu == -1, columns].to_csv(write_test_path)"
   ]
  },
  {
   "cell_type": "markdown",
   "metadata": {},
   "source": [
    "### End of Notebook"
   ]
  }
 ],
 "metadata": {
  "kernelspec": {
   "display_name": "Python 3",
   "language": "python",
   "name": "python3"
  },
  "language_info": {
   "codemirror_mode": {
    "name": "ipython",
    "version": 3
   },
   "file_extension": ".py",
   "mimetype": "text/x-python",
   "name": "python",
   "nbconvert_exporter": "python",
   "pygments_lexer": "ipython3",
   "version": "3.7.6"
  }
 },
 "nbformat": 4,
 "nbformat_minor": 4
}
