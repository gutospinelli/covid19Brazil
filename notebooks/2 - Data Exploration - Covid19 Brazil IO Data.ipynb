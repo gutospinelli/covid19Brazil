{
 "cells": [
  {
   "cell_type": "markdown",
   "metadata": {},
   "source": [
    "# Extraindo dados da Covid19 via API\n",
    "### Fonte de Dados: https://brasil.io/dataset/covid19/\n",
    "### Augusto SPINELLI\n",
    "\n",
    "### Licença\n",
    "Os dados dados convertidos estão sob a licença Creative Commons Attribution ShareAlike. Caso utilize os dados, cite a fonte original e quem tratou os dados, como: Fonte: Secretarias de Saúde das Unidades Federativas, dados tratados por Álvaro Justen e colaboradores/Brasil.IO. Caso compartilhe os dados, utilize a mesma licença."
   ]
  },
  {
   "cell_type": "markdown",
   "metadata": {},
   "source": [
    "***"
   ]
  },
  {
   "cell_type": "markdown",
   "metadata": {},
   "source": [
    "## Exploração de Dados"
   ]
  },
  {
   "cell_type": "code",
   "execution_count": 1,
   "metadata": {},
   "outputs": [],
   "source": [
    "#importando dependencias\n",
    "import pandas as pd\n",
    "import numpy as np\n",
    "import os\n",
    "\n",
    "#Caminho dos arquivos RAW\n",
    "raw_data_path = os.path.join(os.path.pardir, 'data', 'raw')\n",
    "estados_data_path = os.path.join(raw_data_path, 'estados.json')\n",
    "cidades_data_path = os.path.join(raw_data_path, 'cidades.json')\n",
    "\n",
    "#criando dataframes brutos/raw\n",
    "cidadesRaw_df = pd.read_json(cidades_data_path)\n",
    "estadosRaw_df = pd.read_json(estados_data_path)"
   ]
  },
  {
   "cell_type": "code",
   "execution_count": 2,
   "metadata": {},
   "outputs": [],
   "source": [
    "#transformando dados para dataframes finais com orientação correta\n",
    "cidades = cidadesRaw_df['results']\n",
    "cidades_df = pd.read_json(cidades.to_json(),orient='index')\n",
    "\n",
    "estados = estadosRaw_df['results']\n",
    "estados_df = pd.read_json(estados.to_json(),orient='index')"
   ]
  },
  {
   "cell_type": "code",
   "execution_count": 4,
   "metadata": {},
   "outputs": [
    {
     "name": "stdout",
     "output_type": "stream",
     "text": [
      "<class 'pandas.core.frame.DataFrame'>\n",
      "Int64Index: 5150 entries, 0 to 5149\n",
      "Data columns (total 12 columns):\n",
      " #   Column                          Non-Null Count  Dtype         \n",
      "---  ------                          --------------  -----         \n",
      " 0   city                            5150 non-null   object        \n",
      " 1   city_ibge_code                  5133 non-null   float64       \n",
      " 2   confirmed                       5150 non-null   int64         \n",
      " 3   confirmed_per_100k_inhabitants  5068 non-null   float64       \n",
      " 4   date                            5150 non-null   datetime64[ns]\n",
      " 5   death_rate                      5150 non-null   float64       \n",
      " 6   deaths                          5150 non-null   int64         \n",
      " 7   estimated_population_2019       5133 non-null   float64       \n",
      " 8   is_last                         5150 non-null   bool          \n",
      " 9   order_for_place                 5150 non-null   int64         \n",
      " 10  place_type                      5150 non-null   object        \n",
      " 11  state                           5150 non-null   object        \n",
      "dtypes: bool(1), datetime64[ns](1), float64(4), int64(3), object(3)\n",
      "memory usage: 487.8+ KB\n",
      "<class 'pandas.core.frame.DataFrame'>\n",
      "Int64Index: 27 entries, 0 to 26\n",
      "Data columns (total 12 columns):\n",
      " #   Column                          Non-Null Count  Dtype         \n",
      "---  ------                          --------------  -----         \n",
      " 0   city                            0 non-null      float64       \n",
      " 1   city_ibge_code                  27 non-null     int64         \n",
      " 2   confirmed                       27 non-null     int64         \n",
      " 3   confirmed_per_100k_inhabitants  27 non-null     float64       \n",
      " 4   date                            27 non-null     datetime64[ns]\n",
      " 5   death_rate                      27 non-null     float64       \n",
      " 6   deaths                          27 non-null     int64         \n",
      " 7   estimated_population_2019       27 non-null     int64         \n",
      " 8   is_last                         27 non-null     bool          \n",
      " 9   order_for_place                 27 non-null     int64         \n",
      " 10  place_type                      27 non-null     object        \n",
      " 11  state                           27 non-null     object        \n",
      "dtypes: bool(1), datetime64[ns](1), float64(3), int64(5), object(2)\n",
      "memory usage: 2.6+ KB\n"
     ]
    }
   ],
   "source": [
    "#verificando dataframes\n",
    "cidades_df.info()\n",
    "estados_df.info()"
   ]
  }
 ],
 "metadata": {
  "kernelspec": {
   "display_name": "Python 3",
   "language": "python",
   "name": "python3"
  },
  "language_info": {
   "codemirror_mode": {
    "name": "ipython",
    "version": 3
   },
   "file_extension": ".py",
   "mimetype": "text/x-python",
   "name": "python",
   "nbconvert_exporter": "python",
   "pygments_lexer": "ipython3",
   "version": "3.7.6"
  }
 },
 "nbformat": 4,
 "nbformat_minor": 4
}
