{
 "cells": [
  {
   "cell_type": "markdown",
   "metadata": {},
   "source": [
    "# Extraindo dados da Covid19 via API\n",
    "### Fonte de Dados: https://brasil.io/dataset/covid19/\n",
    "### Augusto SPINELLI\n",
    "\n",
    "### Licença\n",
    "Os dados dados convertidos estão sob a licença Creative Commons Attribution ShareAlike. Caso utilize os dados, cite a fonte original e quem tratou os dados, como: Fonte: Secretarias de Saúde das Unidades Federativas, dados tratados por Álvaro Justen e colaboradores/Brasil.IO. Caso compartilhe os dados, utilize a mesma licença."
   ]
  },
  {
   "cell_type": "markdown",
   "metadata": {},
   "source": [
    "***"
   ]
  },
  {
   "cell_type": "markdown",
   "metadata": {},
   "source": [
    "## Exploração de Dados"
   ]
  },
  {
   "cell_type": "code",
   "execution_count": 2,
   "metadata": {},
   "outputs": [],
   "source": [
    "#importando dependencias\n",
    "import pandas as pd\n",
    "import numpy as np\n",
    "import os\n",
    "\n",
    "#Caminho dos arquivos RAW\n",
    "raw_data_path = os.path.join(os.path.pardir, 'data', 'raw')\n",
    "estados_data_path = os.path.join(raw_data_path, 'estados.json')\n",
    "cidades_data_path = os.path.join(raw_data_path, 'cidades.json')\n",
    "\n",
    "#criando dataframes brutos/raw\n",
    "cidadesRaw_df = pd.read_json(cidades_data_path)\n",
    "estadosRaw_df = pd.read_json(estados_data_path)"
   ]
  },
  {
   "cell_type": "code",
   "execution_count": 3,
   "metadata": {},
   "outputs": [],
   "source": [
    "#transformando dados para dataframes finais com orientação correta\n",
    "cidades = cidadesRaw_df['results']\n",
    "cidades_df = pd.read_json(cidades.to_json(),orient='index')\n",
    "\n",
    "estados = estadosRaw_df['results']\n",
    "estados_df = pd.read_json(estados.to_json(),orient='index')"
   ]
  },
  {
   "cell_type": "code",
   "execution_count": 4,
   "metadata": {},
   "outputs": [
    {
     "name": "stdout",
     "output_type": "stream",
     "text": [
      "<class 'pandas.core.frame.DataFrame'>\n",
      "Int64Index: 5150 entries, 0 to 5149\n",
      "Data columns (total 12 columns):\n",
      " #   Column                          Non-Null Count  Dtype         \n",
      "---  ------                          --------------  -----         \n",
      " 0   city                            5150 non-null   object        \n",
      " 1   city_ibge_code                  5133 non-null   float64       \n",
      " 2   confirmed                       5150 non-null   int64         \n",
      " 3   confirmed_per_100k_inhabitants  5068 non-null   float64       \n",
      " 4   date                            5150 non-null   datetime64[ns]\n",
      " 5   death_rate                      5150 non-null   float64       \n",
      " 6   deaths                          5150 non-null   int64         \n",
      " 7   estimated_population_2019       5133 non-null   float64       \n",
      " 8   is_last                         5150 non-null   bool          \n",
      " 9   order_for_place                 5150 non-null   int64         \n",
      " 10  place_type                      5150 non-null   object        \n",
      " 11  state                           5150 non-null   object        \n",
      "dtypes: bool(1), datetime64[ns](1), float64(4), int64(3), object(3)\n",
      "memory usage: 487.8+ KB\n",
      "<class 'pandas.core.frame.DataFrame'>\n",
      "Int64Index: 27 entries, 0 to 26\n",
      "Data columns (total 12 columns):\n",
      " #   Column                          Non-Null Count  Dtype         \n",
      "---  ------                          --------------  -----         \n",
      " 0   city                            0 non-null      float64       \n",
      " 1   city_ibge_code                  27 non-null     int64         \n",
      " 2   confirmed                       27 non-null     int64         \n",
      " 3   confirmed_per_100k_inhabitants  27 non-null     float64       \n",
      " 4   date                            27 non-null     datetime64[ns]\n",
      " 5   death_rate                      27 non-null     float64       \n",
      " 6   deaths                          27 non-null     int64         \n",
      " 7   estimated_population_2019       27 non-null     int64         \n",
      " 8   is_last                         27 non-null     bool          \n",
      " 9   order_for_place                 27 non-null     int64         \n",
      " 10  place_type                      27 non-null     object        \n",
      " 11  state                           27 non-null     object        \n",
      "dtypes: bool(1), datetime64[ns](1), float64(3), int64(5), object(2)\n",
      "memory usage: 2.6+ KB\n"
     ]
    }
   ],
   "source": [
    "#verificando dataframes\n",
    "cidades_df.info()\n",
    "estados_df.info()"
   ]
  },
  {
   "cell_type": "markdown",
   "metadata": {},
   "source": [
    "### Visualizações Exploratórias\n",
    "\n",
    "O **Gráfico BoxPlot (gato de bigodes)** nos dá uma ótima visão das distribuições nos quartis estatísticos, assim como nos ajuda a identificar de forma fácil a existência de outliers (estranhos no ninho).\n",
    "\n",
    "No caso abaixo, criamos um BoxPLot com o número de confirmados por 100k habitantes no dataframe dos estados brasileiros. Pela presença dos pontos acima dos bigodes do BoxPLot, notamos que **dois estados possuem uma taxa de mortos por 100k habitantes BEM MAIOR que a média nacional**."
   ]
  },
  {
   "cell_type": "code",
   "execution_count": 5,
   "metadata": {},
   "outputs": [
    {
     "data": {
      "image/png": "[encoded data removed]",
      "text/plain": [
       "<Figure size 432x288 with 1 Axes>"
      ]
     },
     "metadata": {
      "needs_background": "light"
     },
     "output_type": "display_data"
    }
   ],
   "source": [
    "estados_df.confirmed_per_100k_inhabitants.plot(kind='box');"
   ]
  },
  {
   "cell_type": "markdown",
   "metadata": {},
   "source": [
    "Podemos observar que os 5 estados com maior número de confirmados por 100k habitantes estão abaixo, com destaque especial para Amapá e Roraima, os nossos pontos acima do bigode do BoxPlot.\n",
    "\n",
    "Outro insight também pode ser notado: **até o presente momento, os estados da região norte do Brasil têm o maior número de confirmados para cada 100k habitantes**.\n",
    "\n",
    "Será que isso é reflexo de um baixo nível de isolamento, ou simplesmente estão testando mais lá?"
   ]
  },
  {
   "cell_type": "code",
   "execution_count": 6,
   "metadata": {},
   "outputs": [
    {
     "data": {
      "text/html": [
       "<div>\n",
       "<style scoped>\n",
       "    .dataframe tbody tr th:only-of-type {\n",
       "        vertical-align: middle;\n",
       "    }\n",
       "\n",
       "    .dataframe tbody tr th {\n",
       "        vertical-align: top;\n",
       "    }\n",
       "\n",
       "    .dataframe thead th {\n",
       "        text-align: right;\n",
       "    }\n",
       "</style>\n",
       "<table border=\"1\" class=\"dataframe\">\n",
       "  <thead>\n",
       "    <tr style=\"text-align: right;\">\n",
       "      <th></th>\n",
       "      <th>state</th>\n",
       "      <th>confirmed_per_100k_inhabitants</th>\n",
       "      <th>confirmed</th>\n",
       "      <th>deaths</th>\n",
       "    </tr>\n",
       "  </thead>\n",
       "  <tbody>\n",
       "    <tr>\n",
       "      <th>3</th>\n",
       "      <td>AP</td>\n",
       "      <td>3340.66033</td>\n",
       "      <td>28253</td>\n",
       "      <td>413</td>\n",
       "    </tr>\n",
       "    <tr>\n",
       "      <th>25</th>\n",
       "      <td>RR</td>\n",
       "      <td>2386.91497</td>\n",
       "      <td>14459</td>\n",
       "      <td>281</td>\n",
       "    </tr>\n",
       "    <tr>\n",
       "      <th>2</th>\n",
       "      <td>AM</td>\n",
       "      <td>1686.36420</td>\n",
       "      <td>69893</td>\n",
       "      <td>2792</td>\n",
       "    </tr>\n",
       "    <tr>\n",
       "      <th>6</th>\n",
       "      <td>DF</td>\n",
       "      <td>1561.08843</td>\n",
       "      <td>47071</td>\n",
       "      <td>559</td>\n",
       "    </tr>\n",
       "    <tr>\n",
       "      <th>0</th>\n",
       "      <td>AC</td>\n",
       "      <td>1490.58604</td>\n",
       "      <td>13146</td>\n",
       "      <td>361</td>\n",
       "    </tr>\n",
       "  </tbody>\n",
       "</table>\n",
       "</div>"
      ],
      "text/plain": [
       "   state  confirmed_per_100k_inhabitants  confirmed  deaths\n",
       "3     AP                      3340.66033      28253     413\n",
       "25    RR                      2386.91497      14459     281\n",
       "2     AM                      1686.36420      69893    2792\n",
       "6     DF                      1561.08843      47071     559\n",
       "0     AC                      1490.58604      13146     361"
      ]
     },
     "execution_count": 6,
     "metadata": {},
     "output_type": "execute_result"
    }
   ],
   "source": [
    "estados_df[['state','confirmed_per_100k_inhabitants','confirmed','deaths']].sort_values(by=['confirmed_per_100k_inhabitants'],ascending=False).head()"
   ]
  },
  {
   "cell_type": "markdown",
   "metadata": {},
   "source": [
    "### Vamos observar a distribuição total de casos por estados"
   ]
  },
  {
   "cell_type": "code",
   "execution_count": 7,
   "metadata": {},
   "outputs": [
    {
     "data": {
      "image/png": "[encoded data removed]",
      "text/plain": [
       "<Figure size 432x288 with 1 Axes>"
      ]
     },
     "metadata": {
      "needs_background": "light"
     },
     "output_type": "display_data"
    }
   ],
   "source": [
    "estados_df.confirmed.plot(kind='hist', title='histogram for confirmed cases', color='c',bins=20);"
   ]
  },
  {
   "cell_type": "markdown",
   "metadata": {},
   "source": [
    "Um estado se destaca com maisde 250k casos. Já sabemos pelo noticiário que é o estado de SP, mas vamos confirmar? "
   ]
  },
  {
   "cell_type": "code",
   "execution_count": 8,
   "metadata": {
    "scrolled": true
   },
   "outputs": [
    {
     "data": {
      "text/html": [
       "<div>\n",
       "<style scoped>\n",
       "    .dataframe tbody tr th:only-of-type {\n",
       "        vertical-align: middle;\n",
       "    }\n",
       "\n",
       "    .dataframe tbody tr th {\n",
       "        vertical-align: top;\n",
       "    }\n",
       "\n",
       "    .dataframe thead th {\n",
       "        text-align: right;\n",
       "    }\n",
       "</style>\n",
       "<table border=\"1\" class=\"dataframe\">\n",
       "  <thead>\n",
       "    <tr style=\"text-align: right;\">\n",
       "      <th></th>\n",
       "      <th>state</th>\n",
       "      <th>confirmed</th>\n",
       "    </tr>\n",
       "  </thead>\n",
       "  <tbody>\n",
       "    <tr>\n",
       "      <th>22</th>\n",
       "      <td>SP</td>\n",
       "      <td>275145</td>\n",
       "    </tr>\n",
       "    <tr>\n",
       "      <th>17</th>\n",
       "      <td>RJ</td>\n",
       "      <td>111883</td>\n",
       "    </tr>\n",
       "    <tr>\n",
       "      <th>5</th>\n",
       "      <td>CE</td>\n",
       "      <td>108225</td>\n",
       "    </tr>\n",
       "    <tr>\n",
       "      <th>12</th>\n",
       "      <td>PA</td>\n",
       "      <td>103206</td>\n",
       "    </tr>\n",
       "    <tr>\n",
       "      <th>9</th>\n",
       "      <td>MA</td>\n",
       "      <td>78969</td>\n",
       "    </tr>\n",
       "  </tbody>\n",
       "</table>\n",
       "</div>"
      ],
      "text/plain": [
       "   state  confirmed\n",
       "22    SP     275145\n",
       "17    RJ     111883\n",
       "5     CE     108225\n",
       "12    PA     103206\n",
       "9     MA      78969"
      ]
     },
     "execution_count": 8,
     "metadata": {},
     "output_type": "execute_result"
    }
   ],
   "source": [
    "estados_df[['state','confirmed']].sort_values(by=['confirmed'],ascending=False).head()"
   ]
  },
  {
   "cell_type": "markdown",
   "metadata": {},
   "source": [
    "O uso de um **gráfico KDE** é util para observarmos a densidade dos casos. Percebemos que a curva de casos por estado ainda está concentrada na faixa de 0-100k casos, com exceção da *lombada* próxima dos 300k casos que é São Paulo.\n",
    "\n",
    "Aparentemente, o noticiário e a observação do gráfico de densidade KDE nos indica que **a pandemia tem um potencial de deslocar essa curva para a direita nos próximos meses**, com a explosão de casos em outros estados."
   ]
  },
  {
   "cell_type": "code",
   "execution_count": 9,
   "metadata": {},
   "outputs": [
    {
     "data": {
      "image/png": "[encoded data removed]",
      "text/plain": [
       "<Figure size 432x288 with 1 Axes>"
      ]
     },
     "metadata": {
      "needs_background": "light"
     },
     "output_type": "display_data"
    }
   ],
   "source": [
    "estados_df[['confirmed']].plot(kind='kde', title='Density plot for confirmed cases', color='c');\n"
   ]
  },
  {
   "cell_type": "markdown",
   "metadata": {},
   "source": [
    "Um scatter plot pode ser usado para ver a correlação entre duas variáveis\n",
    "\n",
    "No caso de número de confirmados por 100k habitantes e população observamos uma correlação de que as menores populações dos estados são também aquelas onde a taxa de confirmados por 100 mil habitantes é maior. No entanto, a taxa de mortes dos estados com menor população também é menor"
   ]
  },
  {
   "cell_type": "code",
   "execution_count": 10,
   "metadata": {},
   "outputs": [
    {
     "data": {
      "image/png": "[encoded data removed]",
      "text/plain": [
       "<Figure size 432x288 with 2 Axes>"
      ]
     },
     "metadata": {
      "needs_background": "light"
     },
     "output_type": "display_data"
    }
   ],
   "source": [
    "estados_df.plot.scatter(x='estimated_population_2019',y='confirmed_per_100k_inhabitants', c='death_rate', colormap='viridis', title='scatter plot: confirmados vs população');"
   ]
  },
  {
   "cell_type": "markdown",
   "metadata": {},
   "source": [
    "### Os estados com maior taxa de mortos são RJ e PE com mais de 8%"
   ]
  },
  {
   "cell_type": "code",
   "execution_count": 21,
   "metadata": {},
   "outputs": [
    {
     "data": {
      "text/html": [
       "<div>\n",
       "<style scoped>\n",
       "    .dataframe tbody tr th:only-of-type {\n",
       "        vertical-align: middle;\n",
       "    }\n",
       "\n",
       "    .dataframe tbody tr th {\n",
       "        vertical-align: top;\n",
       "    }\n",
       "\n",
       "    .dataframe thead th {\n",
       "        text-align: right;\n",
       "    }\n",
       "</style>\n",
       "<table border=\"1\" class=\"dataframe\">\n",
       "  <thead>\n",
       "    <tr style=\"text-align: right;\">\n",
       "      <th></th>\n",
       "      <th>death_rate</th>\n",
       "      <th>state</th>\n",
       "      <th>confirmed</th>\n",
       "    </tr>\n",
       "  </thead>\n",
       "  <tbody>\n",
       "    <tr>\n",
       "      <th>17</th>\n",
       "      <td>0.0880</td>\n",
       "      <td>RJ</td>\n",
       "      <td>111883</td>\n",
       "    </tr>\n",
       "    <tr>\n",
       "      <th>14</th>\n",
       "      <td>0.0818</td>\n",
       "      <td>PE</td>\n",
       "      <td>58476</td>\n",
       "    </tr>\n",
       "    <tr>\n",
       "      <th>5</th>\n",
       "      <td>0.0561</td>\n",
       "      <td>CE</td>\n",
       "      <td>108225</td>\n",
       "    </tr>\n",
       "    <tr>\n",
       "      <th>22</th>\n",
       "      <td>0.0523</td>\n",
       "      <td>SP</td>\n",
       "      <td>275145</td>\n",
       "    </tr>\n",
       "    <tr>\n",
       "      <th>12</th>\n",
       "      <td>0.0477</td>\n",
       "      <td>PA</td>\n",
       "      <td>103206</td>\n",
       "    </tr>\n",
       "    <tr>\n",
       "      <th>2</th>\n",
       "      <td>0.0399</td>\n",
       "      <td>AM</td>\n",
       "      <td>69893</td>\n",
       "    </tr>\n",
       "    <tr>\n",
       "      <th>11</th>\n",
       "      <td>0.0385</td>\n",
       "      <td>MT</td>\n",
       "      <td>15328</td>\n",
       "    </tr>\n",
       "    <tr>\n",
       "      <th>7</th>\n",
       "      <td>0.0359</td>\n",
       "      <td>ES</td>\n",
       "      <td>45097</td>\n",
       "    </tr>\n",
       "    <tr>\n",
       "      <th>24</th>\n",
       "      <td>0.0343</td>\n",
       "      <td>RN</td>\n",
       "      <td>28970</td>\n",
       "    </tr>\n",
       "    <tr>\n",
       "      <th>15</th>\n",
       "      <td>0.0325</td>\n",
       "      <td>PI</td>\n",
       "      <td>20422</td>\n",
       "    </tr>\n",
       "  </tbody>\n",
       "</table>\n",
       "</div>"
      ],
      "text/plain": [
       "    death_rate state  confirmed\n",
       "17      0.0880    RJ     111883\n",
       "14      0.0818    PE      58476\n",
       "5       0.0561    CE     108225\n",
       "22      0.0523    SP     275145\n",
       "12      0.0477    PA     103206\n",
       "2       0.0399    AM      69893\n",
       "11      0.0385    MT      15328\n",
       "7       0.0359    ES      45097\n",
       "24      0.0343    RN      28970\n",
       "15      0.0325    PI      20422"
      ]
     },
     "execution_count": 21,
     "metadata": {},
     "output_type": "execute_result"
    }
   ],
   "source": [
    "estados_df.loc[(estados_df.death_rate > 0.03),['death_rate','state','confirmed']].sort_values(by=['death_rate'],ascending=False)"
   ]
  },
  {
   "cell_type": "markdown",
   "metadata": {},
   "source": [
    "### Vamos agora explorar um pouco mais os dados com visualizações mais interessantes no próximo notebook..."
   ]
  },
  {
   "cell_type": "code",
   "execution_count": null,
   "metadata": {},
   "outputs": [],
   "source": []
  }
 ],
 "metadata": {
  "kernelspec": {
   "display_name": "Python 3",
   "language": "python",
   "name": "python3"
  },
  "language_info": {
   "codemirror_mode": {
    "name": "ipython",
    "version": 3
   },
   "file_extension": ".py",
   "mimetype": "text/x-python",
   "name": "python",
   "nbconvert_exporter": "python",
   "pygments_lexer": "ipython3",
   "version": "3.7.6"
  }
 },
 "nbformat": 4,
 "nbformat_minor": 4
}
